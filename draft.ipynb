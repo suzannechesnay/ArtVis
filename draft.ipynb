{
 "cells": [
  {
   "cell_type": "code",
   "id": "initial_id",
   "metadata": {
    "collapsed": true,
    "ExecuteTime": {
     "end_time": "2025-01-17T10:40:11.498239Z",
     "start_time": "2025-01-17T10:40:09.440468Z"
    }
   },
   "source": [
    "from fastapi import FastAPI, Query\n",
    "import pandas as pd\n",
    "import os\n",
    "from fastapi.responses import JSONResponse, FileResponse\n"
   ],
   "outputs": [],
   "execution_count": 1
  },
  {
   "metadata": {
    "ExecuteTime": {
     "end_time": "2025-01-17T10:56:35.326551Z",
     "start_time": "2025-01-17T10:56:35.217790Z"
    }
   },
   "cell_type": "code",
   "source": [
    "def create_charts_jsons(startdate, enddate):\n",
    "    # Load the dataset\n",
    "    df = pd.read_csv('data_cleaning_and_queries' + os.sep + 'artVis_data_cleaned.csv')\n",
    "    \n",
    "    # Filter for the specified years\n",
    "    filtered_df = df.loc[(df['e_startdate'] >= startdate) & (df['e_startdate'] <= enddate)]\n",
    "\n",
    "    grouped_by_artist = filtered_df.groupby(['a_id']).agg({'a_firstname': 'first',\n",
    "                                                           'a_lastname': 'first',\n",
    "                                                           'e_paintings': 'sum',\n",
    "                                                           'e_id': 'count',\n",
    "                                                           'e_venue': lambda x: x.nunique()})\n",
    "\n",
    "    grouped_by_venue = filtered_df.groupby(['e_venue']).agg({'e_country': 'first',\n",
    "                                                             'e_city': 'first',\n",
    "                                                             'a_id': lambda x: x.nunique(),\n",
    "                                                             'e_id': lambda x: x.nunique(),\n",
    "                                                             'e_paintings': 'sum'})\n",
    "\n",
    "    json_files = [grouped_by_artist.to_json(orient='records'), grouped_by_venue.to_json(orient='records')]\n",
    "\n",
    "    # Save the dataframes as an HTML file\n",
    "    charts_urls = [\"grouped_by_artist.html\", \"grouped_by_venue.html\"]\n",
    "    for i in [0, 1]:\n",
    "        json_files[i].to_html(charts_urls[i])\n",
    "    \n",
    "    return charts_urls"
   ],
   "id": "5617527ba21e3258",
   "outputs": [],
   "execution_count": 4
  },
  {
   "metadata": {
    "ExecuteTime": {
     "end_time": "2025-01-17T10:56:37.833528Z",
     "start_time": "2025-01-17T10:56:35.915087Z"
    }
   },
   "cell_type": "code",
   "source": "create_charts_jsons(1908, 1912)",
   "id": "c03d55a14eec8934",
   "outputs": [
    {
     "ename": "AttributeError",
     "evalue": "'str' object has no attribute 'to_html'",
     "output_type": "error",
     "traceback": [
      "\u001B[1;31m---------------------------------------------------------------------------\u001B[0m",
      "\u001B[1;31mAttributeError\u001B[0m                            Traceback (most recent call last)",
      "Cell \u001B[1;32mIn[5], line 1\u001B[0m\n\u001B[1;32m----> 1\u001B[0m \u001B[43mcreate_charts_jsons\u001B[49m\u001B[43m(\u001B[49m\u001B[38;5;241;43m1908\u001B[39;49m\u001B[43m,\u001B[49m\u001B[43m \u001B[49m\u001B[38;5;241;43m1912\u001B[39;49m\u001B[43m)\u001B[49m\n",
      "Cell \u001B[1;32mIn[4], line 25\u001B[0m, in \u001B[0;36mcreate_charts_jsons\u001B[1;34m(startdate, enddate)\u001B[0m\n\u001B[0;32m     23\u001B[0m charts_urls \u001B[38;5;241m=\u001B[39m [\u001B[38;5;124m\"\u001B[39m\u001B[38;5;124mgrouped_by_artist.html\u001B[39m\u001B[38;5;124m\"\u001B[39m, \u001B[38;5;124m\"\u001B[39m\u001B[38;5;124mgrouped_by_venue.html\u001B[39m\u001B[38;5;124m\"\u001B[39m]\n\u001B[0;32m     24\u001B[0m \u001B[38;5;28;01mfor\u001B[39;00m i \u001B[38;5;129;01min\u001B[39;00m [\u001B[38;5;241m0\u001B[39m, \u001B[38;5;241m1\u001B[39m]:\n\u001B[1;32m---> 25\u001B[0m     \u001B[43mjson_files\u001B[49m\u001B[43m[\u001B[49m\u001B[43mi\u001B[49m\u001B[43m]\u001B[49m\u001B[38;5;241;43m.\u001B[39;49m\u001B[43mto_html\u001B[49m(charts_urls[i])\n\u001B[0;32m     27\u001B[0m \u001B[38;5;28;01mreturn\u001B[39;00m charts_urls\n",
      "\u001B[1;31mAttributeError\u001B[0m: 'str' object has no attribute 'to_html'"
     ]
    }
   ],
   "execution_count": 5
  },
  {
   "metadata": {
    "ExecuteTime": {
     "end_time": "2025-01-17T10:38:36.124711Z",
     "start_time": "2025-01-17T10:38:35.935066Z"
    }
   },
   "cell_type": "code",
   "source": "",
   "id": "21b866629b63f49f",
   "outputs": [
    {
     "name": "stdout",
     "output_type": "stream",
     "text": [
      " Volume in drive C is Windows-SSD\n",
      " Volume Serial Number is E4F7-167F\n",
      "\n",
      " Directory of C:\\Users\\suzan\\PycharmProjects\\TU_projects\\Information_Visualization\\new\n",
      "\n",
      "2025-01-17  11:38    <DIR>          .\n",
      "2025-01-16  22:35    <DIR>          ..\n",
      "2025-01-16  20:35             2,840 charts.js\n",
      "2025-01-16  20:24             2,426 dashboard.js\n",
      "2025-01-16  10:40           402,387 Dashboard_Sketch.png\n",
      "2025-01-15  22:41    <DIR>          data\n",
      "2025-01-16  17:31             4,119 index.html\n",
      "2025-01-16  16:37             2,636 load_data.js\n",
      "2025-01-16  18:58               996 map.js\n",
      "2025-01-16  17:26             2,163 map.py\n",
      "2025-01-14  23:02    <DIR>          node_modules\n",
      "2025-01-14  23:02               843 package-lock.json\n",
      "2025-01-16  03:20               363 package.json\n",
      "2025-01-14  12:50               410 README.txt\n",
      "2025-01-16  11:08                64 requirements.txt\n",
      "2025-01-16  20:24             1,292 slider.js\n",
      "2025-01-15  04:28             1,560 style.css\n",
      "2025-01-16  19:38    <DIR>          __pycache__\n",
      "              13 File(s)        422,099 bytes\n",
      "               5 Dir(s)  67,262,484,480 bytes free\n"
     ]
    }
   ],
   "execution_count": 9
  },
  {
   "metadata": {},
   "cell_type": "code",
   "outputs": [],
   "execution_count": null,
   "source": [
    "\n",
    "app = FastAPI()\n",
    "\n",
    "@app.get(\"/get-charts-data\")\n",
    "async def get_charts_data(\n",
    "    startYear: int = Query(..., description=\"The start year for filtering\"),\n",
    "    endYear: int = Query(..., description=\"The end year for filtering\"),\n",
    "):\n",
    "    \"\"\"\n",
    "    Endpoint to fetch charts data filtered by a year range.\n",
    "    \"\"\"\n",
    "    # Call the `create_chart` function\n",
    "    charts_file = create_charts(startYear, endYear)\n",
    "    #return FileResponse(charts_file, media_type=\"text/html\", filename=os.path.basename(charts_file))\n",
    "\n",
    "    # Return the URL to the charts (no need for the file response)\n",
    "    return JSONResponse(content={\"charts_url\": charts_url})\n",
    "    \n"
   ],
   "id": "af9bc4aff9a09469"
  }
 ],
 "metadata": {
  "kernelspec": {
   "display_name": "Python 3",
   "language": "python",
   "name": "python3"
  },
  "language_info": {
   "codemirror_mode": {
    "name": "ipython",
    "version": 2
   },
   "file_extension": ".py",
   "mimetype": "text/x-python",
   "name": "python",
   "nbconvert_exporter": "python",
   "pygments_lexer": "ipython2",
   "version": "2.7.6"
  }
 },
 "nbformat": 4,
 "nbformat_minor": 5
}
